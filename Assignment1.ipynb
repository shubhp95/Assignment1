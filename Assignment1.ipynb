{
 "cells": [
  {
   "cell_type": "code",
   "execution_count": 4,
   "id": "44072e1c",
   "metadata": {},
   "outputs": [
    {
     "name": "stdout",
     "output_type": "stream",
     "text": [
      "0\n",
      "1\n",
      "2\n",
      "3\n",
      "4\n",
      "5\n",
      "6\n",
      "7\n",
      "8\n",
      "9\n",
      "0\n",
      "1\n",
      "2\n",
      "3\n",
      "4\n"
     ]
    }
   ],
   "source": [
    "#Q1.\n",
    "\n",
    "#For Loop is used when we know the exact number of iterations to be done.\n",
    "#Example:\n",
    "    \n",
    "for i in range(10):  # Loops 10 times (0 to 9)\n",
    "    print(i)\n",
    "\n",
    "    \n",
    "#While Loop is used when we do not know the exact number of iterations.\n",
    "#Example:\n",
    "    \n",
    "    count = 0\n",
    "while count < 5:  # Loops until count reaches 5\n",
    "    print(count)\n",
    "    count += 1"
   ]
  },
  {
   "cell_type": "code",
   "execution_count": 6,
   "id": "17fd5584",
   "metadata": {},
   "outputs": [
    {
     "name": "stdout",
     "output_type": "stream",
     "text": [
      "Sum using for loop: 55\n",
      "Product using for loop: 3628800\n",
      "Sum using while loop: 55\n",
      "Product using while loop: 3628800\n"
     ]
    }
   ],
   "source": [
    "#Q2.\n",
    "\n",
    "#Using For Loop:\n",
    "    \n",
    "sum = 0\n",
    "product = 1\n",
    "for i in range(1, 11):\n",
    "    sum += i\n",
    "    product *= i\n",
    "\n",
    "print(\"Sum using for loop:\", sum)\n",
    "print(\"Product using for loop:\", product)\n",
    "\n",
    "\n",
    "#Using While Loop:\n",
    "    \n",
    "sum = 0\n",
    "product = 1\n",
    "i = 1\n",
    "while i <= 10:\n",
    "    sum += i\n",
    "    product *= i\n",
    "    i += 1\n",
    "\n",
    "print(\"Sum using while loop:\", sum)\n",
    "print(\"Product using while loop:\", product)"
   ]
  },
  {
   "cell_type": "code",
   "execution_count": 7,
   "id": "2fe54fde",
   "metadata": {},
   "outputs": [
    {
     "name": "stdout",
     "output_type": "stream",
     "text": [
      "Enter units consumed: 100\n",
      "Electricity bill: 450.0\n"
     ]
    }
   ],
   "source": [
    "#Q3.\n",
    "\n",
    "units = int(input(\"Enter units consumed: \"))\n",
    "\n",
    "bill = 0\n",
    "if units <= 100:\n",
    "    bill = units * 4.5\n",
    "elif units <= 200:\n",
    "    bill = 100 * 4.5 + (units - 100) * 6\n",
    "elif units <= 300:\n",
    "    bill = 100 * 4.5 + 100 * 6 + (units - 200) * 10\n",
    "else:\n",
    "    bill = 100 * 4.5 + 100 * 6 + 100 * 10 + (units - 300) * 20\n",
    "\n",
    "print(\"Electricity bill:\", bill)"
   ]
  },
  {
   "cell_type": "code",
   "execution_count": 9,
   "id": "0827f695",
   "metadata": {},
   "outputs": [
    {
     "name": "stdout",
     "output_type": "stream",
     "text": [
      "Cubes divisible by 4 or 5 (for loop): [2, 4, 5, 6, 8, 10, 12, 14, 15, 16, 18, 20, 22, 24, 25, 26, 28, 30, 32, 34, 35, 36, 38, 40, 42, 44, 45, 46, 48, 50, 52, 54, 55, 56, 58, 60, 62, 64, 65, 66, 68, 70, 72, 74, 75, 76, 78, 80, 82, 84, 85, 86, 88, 90, 92, 94, 95, 96, 98, 100]\n",
      "Cubes divisible by 4 or 5 (while loop): [2, 4, 5, 6, 8, 10, 12, 14, 15, 16, 18, 20, 22, 24, 25, 26, 28, 30, 32, 34, 35, 36, 38, 40, 42, 44, 45, 46, 48, 50, 52, 54, 55, 56, 58, 60, 62, 64, 65, 66, 68, 70, 72, 74, 75, 76, 78, 80, 82, 84, 85, 86, 88, 90, 92, 94, 95, 96, 98, 100]\n"
     ]
    }
   ],
   "source": [
    "#Q4.\n",
    "\n",
    "\n",
    "cubes_divisible = []\n",
    "\n",
    "# For loop\n",
    "for num in range(1, 101):\n",
    "    cube = num * num * num\n",
    "    if cube % 4 == 0 or cube % 5 == 0:\n",
    "        cubes_divisible.append(num)\n",
    "\n",
    "print(\"Cubes divisible by 4 or 5 (for loop):\", cubes_divisible)\n",
    "\n",
    "# While loop\n",
    "cubes_divisible = []\n",
    "num = 1\n",
    "while num <= 100:\n",
    "    cube = num * num * num\n",
    "    if cube % 4 == 0 or cube % 5 == 0:\n",
    "        cubes_divisible.append(num)\n",
    "    num += 1\n",
    "\n",
    "print(\"Cubes divisible by 4 or 5 (while loop):\", cubes_divisible)\n"
   ]
  },
  {
   "cell_type": "code",
   "execution_count": 10,
   "id": "a421bded",
   "metadata": {},
   "outputs": [
    {
     "name": "stdout",
     "output_type": "stream",
     "text": [
      "Number of vowels: 12\n"
     ]
    }
   ],
   "source": [
    "#Q5.\n",
    "\n",
    "string = \"I want to become a data scientist\"\n",
    "\n",
    "vowels = \"aeiou\"\n",
    "vowel_count = 0\n",
    "\n",
    "for char in string.lower():  \n",
    "    if char in vowels:\n",
    "        vowel_count += 1\n",
    "\n",
    "print(\"Number of vowels:\", vowel_count)\n"
   ]
  },
  {
   "cell_type": "code",
   "execution_count": null,
   "id": "1d87ecea",
   "metadata": {},
   "outputs": [],
   "source": []
  }
 ],
 "metadata": {
  "kernelspec": {
   "display_name": "Python 3",
   "language": "python",
   "name": "python3"
  },
  "language_info": {
   "codemirror_mode": {
    "name": "ipython",
    "version": 3
   },
   "file_extension": ".py",
   "mimetype": "text/x-python",
   "name": "python",
   "nbconvert_exporter": "python",
   "pygments_lexer": "ipython3",
   "version": "3.8.8"
  }
 },
 "nbformat": 4,
 "nbformat_minor": 5
}
